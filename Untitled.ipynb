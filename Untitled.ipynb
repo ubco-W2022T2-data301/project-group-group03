{
 "cells": [
  {
   "cell_type": "markdown",
   "id": "648ce8e0-0f64-4760-993f-e9602df849ae",
   "metadata": {},
   "source": [
    "### Introduction \n",
    "##### In this project, we explore the impact of the COVID-19 pandemic on academic performance by examining grade distribution, mean grades, and changes in class sizes across various types of courses. We investigate the shift from traditional in-person learning to online and hybrid classes during the pandemic and then into 2021, where a blend of hybrid, online, and in-person courses emerged. Our primary research interest lies in understanding how remote and hybrid learning has affected students' academic performance in various subjects. Upon completion of this project, we aim to shed light on the challenges and benefits that remote and hybrid learning may present for both students and instructors, thereby offering valuable insights for educational institutions navigating the ever-evolving landscape of teaching and learning."
   ]
  },
  {
   "cell_type": "markdown",
   "id": "04396a9d-e5f4-4442-93af-7d1d72a253ea",
   "metadata": {},
   "source": [
    "#### EDA\n",
    "#### Our EDA focused around the change in Grades that occrued from 2018 to 2021.\n",
    "###### This graphs breaksdown the grade average over the the campus from the years of 2018 to 2021. As a first graph this provides with a basic breadown and overall idea of what to expect form more in depthful analysis. \n",
    "\n",
    "![Graph 1](images/analysis1image.png)\n",
    "##### The second graph used in the EDA, is more depthful breakdown of the grades from UBCO and UBCV. It is a box plot showing the breakdown seperating the two campuses across the years. In this we can see an upward trend form 2018 to 2020, with grades increasing on average across the campuses. It then drops down in average in 2021 at both campsues. \n",
    "\n",
    "![Graph 1](images/analysis1image2.png)\n",
    "\n",
    "##### The third graph used in My EDA is a line plot. In this lineplot we seperate every subject by its associated campus and the plot it on the graph. As we can see from the graph there is a similar upward trend across all subject from 2018 to 2020. With then a drop in average across all subejct in 2021. This correlation analysis, is consistent with out preceptions of online learning. After experiancing online learning, I ahd thougth that this may be the case, and as well transitiioning back to in person leanring was very dificult for many people, esspcially people who had become used to learning online and not being in social environments. \n",
    "![Graph 1](images/analysis1image3.png)\n",
    "\n",
    "##### The last graph used in my EDA is a horrizontal box plot that shows the averages from the three subjects put next to its counter part over the 4 years. And it shows the outliars in each catagory. Being able to visualzie any outliars is very useful for when analayszing data because it allows you to know how consistent your data is and the level on confidence you can have when analyzing it. \n",
    "\n",
    "![Graph 1](images/analysis1image4.png)\n"
   ]
  },
  {
   "cell_type": "markdown",
   "id": "74a46ad9-db46-4470-9bd4-878c2d533b9c",
   "metadata": {},
   "source": [
    "### Question 1 + Answer 1\n",
    "##### For my EDA: I chose the question What effects can we visualize from the transition of in-person to online/hybrid then back to inperson/hybrid courses during the COVID-19 pandemic impact the grade distribution of individual courses? \n",
    "\n",
    "\n",
    "##### Overall my findings suggest that the shift to online/hybrid learning coincided with an increase in average grades from 2018 to 2020 at both campuses, with a drop in 2021 when in-person/hybrid courses resumed. This suggests that online/hybrid learning might have had a positive impact on students' academic performance during that period. Although the impact was not uniform across campuses, subjects, or grade ranges, our analysis provides useful correlational evidence to understand the effects of online learning on students' academic performance.\n",
    "\n"
   ]
  },
  {
   "cell_type": "markdown",
   "id": "86ad39eb-2763-4995-92a3-1c9642e7fbb4",
   "metadata": {},
   "source": [
    "### Summary:\n",
    "\n",
    "##### During the course of this project, we have learned a great deal from the data we have analyzed. From our analysis it does appear that there was a decrease in performace from online learning to hybrid/in person classes. The scope of this project, however is unable to pinpoint the exact cause(s). To acheive conclusion resutls of the cause the of the change in grades would require a much more complex analysis and require the conduction of your own data, research, and studies. This EDA, did however allow give us a broad analysis of the effects the precarious past couple years has had on academic performance.\n"
   ]
  },
  {
   "cell_type": "code",
   "execution_count": null,
   "id": "57d834a2-80b5-4cef-801d-b3c609809a1d",
   "metadata": {},
   "outputs": [],
   "source": []
  },
  {
   "cell_type": "code",
   "execution_count": null,
   "id": "f97d7484-fa4e-47dd-9354-f6590ade0d7b",
   "metadata": {},
   "outputs": [],
   "source": []
  }
 ],
 "metadata": {
  "kernelspec": {
   "display_name": "Python 3 (ipykernel)",
   "language": "python",
   "name": "python3"
  }
 },
 "nbformat": 4,
 "nbformat_minor": 5
}
