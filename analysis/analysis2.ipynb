{
 "cells": [
  {
   "cell_type": "markdown",
   "metadata": {},
   "source": [
    "# Cyrus Tung"
   ]
  },
  {
   "cell_type": "markdown",
   "metadata": {},
   "source": [
    "## Research question/interests\n",
    "What is the best course to study for satifying BA requirements for year 1&2? \n",
    "\n",
    "Spending a long time screening courses to satisfy all the requirements for a B.A. in my first year, I have wondered what is the best set of courses to take and what data differences exist between different disciplines. It is really time consuming for students that have no clue about the whole system. Academic counselors were always fully booked which makes many first year art students feel helpless as a newcomer. In this project I aspire to provide aid for first year art students to satisfy their requirements according to their interest, abilities and their majors. This project could definitely provide insights for both students towards better academic planning, and for the school to improve the format of courses. Focusing only on first year art students, the dash board will be presenting choices of different requirement (eg. language,literacy) and show what are the best options with regard to the dataset. \n"
   ]
  }
 ],
 "metadata": {
  "kernelspec": {
   "display_name": "Python 3 (ipykernel)",
   "language": "python",
   "name": "python3"
  }
 },
 "nbformat": 4,
 "nbformat_minor": 4
}
