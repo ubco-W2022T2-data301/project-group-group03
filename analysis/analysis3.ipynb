{
 "cells": [
  {
   "cell_type": "markdown",
   "metadata": {},
   "source": [
    "# Noah Chan"
   ]
  },
  {
   "cell_type": "markdown",
   "metadata": {},
   "source": [
    "## What is the impact of changes in course format (e.g., online, in-person, hybrid) on student course selection and academic performance in higher education?\n",
    "\n",
    "Online classes and remote work have existed in some form for several decades, but they have become much more prevalent and widespread in recent years due to advancements in technology and the COVID-19 pandemic. I am interested in if the rise of hybrid and online classes will completely replace in-person classes and if they are actually better for students. The research question is seeking to investigate the direction and strength of the relatiponshipship between student course selection and academic performance according to different course formats, and to determine whether course format is a significant predictor of student grades at UBC based on the data available on UBC Grades.\n"
   ]
  },
  {
   "cell_type": "code",
   "execution_count": null,
   "metadata": {},
   "outputs": [],
   "source": [
    "import pandas as pd\n",
    "pd.read_csv('../data/raw/rawdata.csv')"
   ]
  }
 ],
 "metadata": {
  "kernelspec": {
   "display_name": "Python 3 (ipykernel)",
   "language": "python",
   "name": "python3"
  }
 },
 "nbformat": 4,
 "nbformat_minor": 4
}
