{
 "cells": [
  {
   "cell_type": "markdown",
   "metadata": {},
   "source": [
    "# Hunter Nixon Smith"
   ]
  },
  {
   "cell_type": "markdown",
   "metadata": {},
   "source": [
    "## Research question/interests\n",
    "**What effects can we visualize from the transition of in-person to online/hybrid then back to inperson/hybrid courses during the COVID-19 pandemic impact the grade distribution of individual courses?**\n",
    "\n",
    "Briefly describe your research question or interests here.\n",
    "For this project my reasearch will focus on how grade distribution, mean grades and analyze how number students in a class changed from a pre covid era to a shift to online and hybrid classes and then into 2021 with a blend of hybrid, online, and in person courses. I am interested in understanding what the shift from  remote and hybrid learning has affected the academic performance of students in a varitety subjects. After completion of the project, my research aims to provide possible insights into the challenges and benefits that remote and hybrid learning, can have on individuals and insructors. \n"
   ]
  },
  {
   "cell_type": "code",
   "execution_count": null,
   "metadata": {},
   "outputs": [
    {
     "ename": "AttributeError",
     "evalue": "'str' object has no attribute 'drop'",
     "output_type": "error",
     "traceback": [
      "\u001b[0;31m---------------------------------------------------------------------------\u001b[0m",
      "\u001b[0;31mAttributeError\u001b[0m                            Traceback (most recent call last)",
      "Cell \u001b[0;32mIn[1], line 12\u001b[0m\n\u001b[1;32m      9\u001b[0m \u001b[38;5;66;03m# Replace the path with the path to your actual data file\u001b[39;00m\n\u001b[1;32m     10\u001b[0m file_path \u001b[38;5;241m=\u001b[39m (\u001b[38;5;124m'\u001b[39m\u001b[38;5;124m../data/raw/rawdata.csv\u001b[39m\u001b[38;5;124m'\u001b[39m)\n\u001b[0;32m---> 12\u001b[0m df \u001b[38;5;241m=\u001b[39m \u001b[43mproject_functions1\u001b[49m\u001b[38;5;241;43m.\u001b[39;49m\u001b[43mload_and_process\u001b[49m\u001b[43m(\u001b[49m\u001b[43mfile_path\u001b[49m\u001b[43m,\u001b[49m\u001b[43m \u001b[49m\u001b[43m[\u001b[49m\u001b[38;5;124;43m'\u001b[39;49m\u001b[38;5;124;43mProfessor\u001b[39;49m\u001b[38;5;124;43m'\u001b[39;49m\u001b[43m,\u001b[49m\u001b[43m \u001b[49m\u001b[38;5;124;43m'\u001b[39;49m\u001b[38;5;124;43mTitle\u001b[39;49m\u001b[38;5;124;43m'\u001b[39;49m\u001b[43m,\u001b[49m\u001b[43m \u001b[49m\u001b[38;5;124;43m'\u001b[39;49m\u001b[38;5;124;43mDetail\u001b[39;49m\u001b[38;5;124;43m'\u001b[39;49m\u001b[43m]\u001b[49m\u001b[43m)\u001b[49m\n\u001b[1;32m     13\u001b[0m df\n",
      "File \u001b[0;32m~/Desktop/data/project-group-group03/analysis/my_code/project_functions1.py:7\u001b[0m, in \u001b[0;36mload_and_process\u001b[0;34m(df, columns_to_drop)\u001b[0m\n\u001b[1;32m      4\u001b[0m \u001b[38;5;28;01mdef\u001b[39;00m \u001b[38;5;21mload_and_process\u001b[39m(df, columns_to_drop):\n\u001b[1;32m      5\u001b[0m     load_and_process \u001b[38;5;241m=\u001b[39m (\n\u001b[1;32m      6\u001b[0m         \u001b[43mdf\u001b[49m\n\u001b[0;32m----> 7\u001b[0m \u001b[43m        \u001b[49m\u001b[38;5;241;43m.\u001b[39;49m\u001b[43mdrop\u001b[49m(columns\u001b[38;5;241m=\u001b[39mcolumns_to_drop)  \u001b[38;5;66;03m# Drop unnecessary columns\u001b[39;00m\n\u001b[1;32m      8\u001b[0m         \u001b[38;5;241m.\u001b[39mquery(\u001b[38;5;124m\"\u001b[39m\u001b[38;5;124mYear >= 2020 & Year < 2021\u001b[39m\u001b[38;5;124m\"\u001b[39m)  \u001b[38;5;66;03m# Filter data for years 2020\u001b[39;00m\n\u001b[1;32m      9\u001b[0m         \u001b[38;5;241m.\u001b[39mgroupby([\u001b[38;5;124m'\u001b[39m\u001b[38;5;124mYear\u001b[39m\u001b[38;5;124m'\u001b[39m, \u001b[38;5;124m'\u001b[39m\u001b[38;5;124mSubject\u001b[39m\u001b[38;5;124m'\u001b[39m, \u001b[38;5;124m'\u001b[39m\u001b[38;5;124mCourse\u001b[39m\u001b[38;5;124m'\u001b[39m])  \u001b[38;5;66;03m# Group data by year, subject, and course\u001b[39;00m\n\u001b[1;32m     10\u001b[0m         \u001b[38;5;241m.\u001b[39magg({\n\u001b[1;32m     11\u001b[0m             \u001b[38;5;124m'\u001b[39m\u001b[38;5;124mAvg\u001b[39m\u001b[38;5;124m'\u001b[39m: [\u001b[38;5;124m'\u001b[39m\u001b[38;5;124mmean\u001b[39m\u001b[38;5;124m'\u001b[39m, \u001b[38;5;124m'\u001b[39m\u001b[38;5;124mmedian\u001b[39m\u001b[38;5;124m'\u001b[39m],  \u001b[38;5;66;03m# Calculate the mean and median of the average grades\u001b[39;00m\n\u001b[1;32m     12\u001b[0m             \u001b[38;5;124m'\u001b[39m\u001b[38;5;124mMedian\u001b[39m\u001b[38;5;124m'\u001b[39m: [\u001b[38;5;124m'\u001b[39m\u001b[38;5;124mmean\u001b[39m\u001b[38;5;124m'\u001b[39m, \u001b[38;5;124m'\u001b[39m\u001b[38;5;124mmedian\u001b[39m\u001b[38;5;124m'\u001b[39m],  \u001b[38;5;66;03m# Calculate the mean and median of the median grades\u001b[39;00m\n\u001b[1;32m     13\u001b[0m             \u001b[38;5;124m'\u001b[39m\u001b[38;5;124mPercentile (25)\u001b[39m\u001b[38;5;124m'\u001b[39m: [\u001b[38;5;124m'\u001b[39m\u001b[38;5;124mmean\u001b[39m\u001b[38;5;124m'\u001b[39m, \u001b[38;5;124m'\u001b[39m\u001b[38;5;124mmedian\u001b[39m\u001b[38;5;124m'\u001b[39m],  \u001b[38;5;66;03m# Calculate the mean and median of the 25th percentile\u001b[39;00m\n\u001b[1;32m     14\u001b[0m             \u001b[38;5;124m'\u001b[39m\u001b[38;5;124mPercentile (75)\u001b[39m\u001b[38;5;124m'\u001b[39m: [\u001b[38;5;124m'\u001b[39m\u001b[38;5;124mmean\u001b[39m\u001b[38;5;124m'\u001b[39m, \u001b[38;5;124m'\u001b[39m\u001b[38;5;124mmedian\u001b[39m\u001b[38;5;124m'\u001b[39m],  \u001b[38;5;66;03m# Calculate the mean and median of the 75th percentile\u001b[39;00m\n\u001b[1;32m     15\u001b[0m         })\n\u001b[1;32m     16\u001b[0m         \u001b[38;5;241m.\u001b[39mround(\u001b[38;5;241m0\u001b[39m)  \u001b[38;5;66;03m# Round the summary statistics to the nearest whole number\u001b[39;00m\n\u001b[1;32m     17\u001b[0m         \u001b[38;5;241m.\u001b[39msort_values(by\u001b[38;5;241m=\u001b[39m[\u001b[38;5;124m'\u001b[39m\u001b[38;5;124mYear\u001b[39m\u001b[38;5;124m'\u001b[39m, \u001b[38;5;124m'\u001b[39m\u001b[38;5;124mSubject\u001b[39m\u001b[38;5;124m'\u001b[39m, \u001b[38;5;124m'\u001b[39m\u001b[38;5;124mCourse\u001b[39m\u001b[38;5;124m'\u001b[39m])  \u001b[38;5;66;03m# Sort the DataFrame by year, subject, and course\u001b[39;00m\n\u001b[1;32m     18\u001b[0m         \u001b[38;5;241m.\u001b[39mreset_index()  \u001b[38;5;66;03m# Reset the index\u001b[39;00m\n\u001b[1;32m     19\u001b[0m         \u001b[38;5;241m.\u001b[39mfillna()  \u001b[38;5;66;03m# Replace NaN values with 0\u001b[39;00m\n\u001b[1;32m     20\u001b[0m     )\n\u001b[1;32m     21\u001b[0m     \u001b[38;5;28;01mreturn\u001b[39;00m load_and_process\n",
      "\u001b[0;31mAttributeError\u001b[0m: 'str' object has no attribute 'drop'"
     ]
    }
   ],
   "source": [
    "import pandas as pd\n",
    "import numpy as np\n",
    "import matplotlib.pyplot as plt\n",
    "import seaborn as sns\n",
    "import math\n",
    "\n",
    "from my_code import project_functions1\n",
    "\n",
    "# Replace the path with the path to your actual data file\n",
    "file_path = ('../data/raw/rawdata.csv')\n",
    "\n",
    "df = project_functions1.load_and_process(file_path, ['Professor', 'Title', 'Detail'])\n",
    "df\n"
   ]
  },
  {
   "cell_type": "code",
   "execution_count": null,
   "metadata": {},
   "outputs": [],
   "source": [
    "Total_Grade_Average = sns.boxplot(x=\"Campus\", y=\"Avg\", data=df)\n",
    "# this graph shows the totoal average grade over the past 4 years in all poltical science, philosphy, and economic courses.\n",
    "# This boxplot shows the mean and the upper and lower quartile and then the outliers. "
   ]
  },
  {
   "cell_type": "code",
   "execution_count": null,
   "metadata": {},
   "outputs": [],
   "source": [
    "Total_Average_By_Year = sns.boxplot(x=\"Year\", y=\"Avg\", hue= 'Campus', data=df)\n",
    "plt.legend(loc='upper right', bbox_to_anchor=(1.2, 1))\n",
    "# This boxplot Shows the average by campus and shows the change in average from each year. \n",
    "\n"
   ]
  },
  {
   "cell_type": "code",
   "execution_count": null,
   "metadata": {},
   "outputs": [],
   "source": [
    "# set the figure size\n",
    "plt.figure(figsize=(10, 5))\n",
    "#set colour\n",
    "colours = {'UBCO_ECON': '#1f77b4',\n",
    "          'UBCO_PHIL': '#ff7f0e',\n",
    "          'UBCO_POLI': '#2ca02c',\n",
    "          'UBCV_ECON': '#d62728',\n",
    "          'UBCV_PHIL': '#9467bd',\n",
    "          'UBCV_POLI': '#8c564b'}\n",
    "\n",
    "# filter the data\n",
    "types = ['ECON', 'PHIL', 'POLI']\n",
    "data = df[df['Subject'].isin(types)]\n",
    "\n",
    "# add a new column to the data for campus + subject\n",
    "data['Campus_Subject'] = data['Campus'] + '_' + data['Subject']\n",
    "\n",
    "# plot the lines\n",
    "sns.lineplot(x='Year', y='Avg', hue='Campus_Subject', data=data, palette=colours, errorbar=None)\n",
    "\n",
    "# set the y-axis ticks and label\n",
    "plt.yticks([70, 75, 80])\n",
    "plt.ylabel('Average Value')\n",
    "\n",
    "# set the x-axis ticks\n",
    "plt.xticks([2018, 2019, 2020, 2021])\n",
    "\n",
    "# add the legend\n",
    "plt.legend(bbox_to_anchor=(1.05, 1), loc='upper left')\n",
    "# This lineplot shows the average of political science, philosophy, and economic courses. \n",
    "# It then splits each course by campus and creates a line graph for each of the courses.\n"
   ]
  },
  {
   "cell_type": "code",
   "execution_count": null,
   "metadata": {},
   "outputs": [],
   "source": [
    "file_path = '../data/raw/rawdata.csv'\n",
    "df = pd.read_csv(file_path)\n"
   ]
  },
  {
   "cell_type": "code",
   "execution_count": null,
   "metadata": {},
   "outputs": [],
   "source": [
    "columns_to_drop = ['Professor', 'Title', 'Detail']\n",
    "df = df.drop(columns=columns_to_drop)\n"
   ]
  },
  {
   "cell_type": "code",
   "execution_count": null,
   "metadata": {},
   "outputs": [],
   "source": [
    "new_file_path = '../data/processed/processeddata.csv'\n",
    "df.to_csv(new_file_path, index=False)"
   ]
  },
  {
   "cell_type": "code",
   "execution_count": null,
   "metadata": {},
   "outputs": [],
   "source": [
    "sns.boxplot(data=df, x='Avg', y='Subject', hue='Campus')\n",
    "# Shows outliars amount of outliars in each subject by campus\n"
   ]
  },
  {
   "cell_type": "code",
   "execution_count": null,
   "metadata": {},
   "outputs": [],
   "source": [
    "def load_and_process(df, columns_to_drop):\n",
    "    load_and_process = (\n",
    "        df\n",
    "        .drop(columns=columns_to_drop)  # Drop unnecessary columns\n",
    "        .query(\"Year >= 2020 & Year < 2021\")  # Filter data for years 2020\n",
    "        .groupby(['Year', 'Subject', 'Course'])  # Group data by year, subject, and course\n",
    "        .agg({\n",
    "            'Avg': ['mean', 'median'],  # Calculate the mean and median of the average grades\n",
    "            'Median': ['mean', 'median'],  # Calculate the mean and median of the median grades\n",
    "            'Percentile (25)': ['mean', 'median'],  # Calculate the mean and median of the 25th percentile\n",
    "            'Percentile (75)': ['mean', 'median'],  # Calculate the mean and median of the 75th percentile\n",
    "        })\n",
    "        .round(0)  # Round the summary statistics to the nearest whole number\n",
    "        .sort_values(by=['Year', 'Subject', 'Course'])  # Sort the DataFrame by year, subject, and course\n",
    "        .reset_index()  # Reset the index\n",
    "        .fillna()  # Replace NaN values with 0\n",
    "    )\n",
    "    return load_and_process\n",
    "\n",
    "\n"
   ]
  },
  {
   "cell_type": "code",
   "execution_count": null,
   "metadata": {},
   "outputs": [],
   "source": [
    "# Load the dataset\n",
    "df = pd.read_csv('../data/processed/processeddata.csv')\n",
    "\n",
    "# Define the columns to drop\n",
    "columns_to_drop = ['Section']\n",
    "\n",
    "# Call the preprocess_data function\n",
    "load_and_process = load_and_process(df, columns_to_drop)\n",
    "\n",
    "# Print the processed DataFrame\n",
    "load_and_process"
   ]
  },
  {
   "cell_type": "code",
   "execution_count": null,
   "metadata": {},
   "outputs": [],
   "source": []
  },
  {
   "cell_type": "code",
   "execution_count": null,
   "metadata": {},
   "outputs": [],
   "source": []
  }
 ],
 "metadata": {
  "kernelspec": {
   "display_name": "Python 3 (ipykernel)",
   "language": "python",
   "name": "python3"
  }
 },
 "nbformat": 4,
 "nbformat_minor": 4
}
