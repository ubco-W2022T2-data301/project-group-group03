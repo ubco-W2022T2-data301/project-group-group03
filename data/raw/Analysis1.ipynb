{
 "cells": [
  {
   "cell_type": "markdown",
   "id": "c3418f54-0c36-47b1-b7d8-b871f5e83082",
   "metadata": {},
   "source": [
    "# Reasearch Question"
   ]
  },
  {
   "cell_type": "markdown",
   "id": "eea251c8-11af-47ca-b5fb-bc42423490ae",
   "metadata": {},
   "source": [
    "**How did the transition from in-person to online/hybrid courses during the COVID-19 pandemic impact the grade distribution of individual courses?**\n"
   ]
  },
  {
   "cell_type": "code",
   "execution_count": null,
   "id": "949c9b76-b955-4024-8a55-2d27d484d013",
   "metadata": {},
   "outputs": [],
   "source": []
  }
 ],
 "metadata": {
  "kernelspec": {
   "display_name": "Python 3 (ipykernel)",
   "language": "python",
   "name": "python3"
  },
  "language_info": {
   "codemirror_mode": {
    "name": "ipython",
    "version": 3
   },
   "file_extension": ".py",
   "mimetype": "text/x-python",
   "name": "python",
   "nbconvert_exporter": "python",
   "pygments_lexer": "ipython3",
   "version": "3.10.8"
  }
 },
 "nbformat": 4,
 "nbformat_minor": 5
}
